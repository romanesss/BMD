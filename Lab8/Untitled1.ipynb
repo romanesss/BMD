{
 "cells": [
  {
   "cell_type": "markdown",
   "metadata": {},
   "source": [
    "Обробка та аналіз БМД Лабораторна 8  Гаврилюк Р.В  БС-82"
   ]
  },
  {
   "cell_type": "markdown",
   "metadata": {},
   "source": [
    "Дисперсійний аналіз"
   ]
  },
  {
   "cell_type": "markdown",
   "metadata": {},
   "source": [
    "Розрахувати та вивести у вигляді таблиці статистичні характиристики даних (середні та стандартні відхилення для кожної з груп)."
   ]
  },
  {
   "cell_type": "markdown",
   "metadata": {},
   "source": [
    "Розглянемо дані \"Компаній з продажу авто\"."
   ]
  },
  {
   "cell_type": "code",
   "execution_count": 29,
   "metadata": {},
   "outputs": [
    {
     "data": {
      "text/html": [
       "<div>\n",
       "<style scoped>\n",
       "    .dataframe tbody tr th:only-of-type {\n",
       "        vertical-align: middle;\n",
       "    }\n",
       "\n",
       "    .dataframe tbody tr th {\n",
       "        vertical-align: top;\n",
       "    }\n",
       "\n",
       "    .dataframe thead th {\n",
       "        text-align: right;\n",
       "    }\n",
       "</style>\n",
       "<table border=\"1\" class=\"dataframe\">\n",
       "  <thead>\n",
       "    <tr style=\"text-align: right;\">\n",
       "      <th></th>\n",
       "      <th>gr1</th>\n",
       "      <th>gr2</th>\n",
       "      <th>gr3</th>\n",
       "    </tr>\n",
       "    <tr>\n",
       "      <th>Day</th>\n",
       "      <th></th>\n",
       "      <th></th>\n",
       "      <th></th>\n",
       "    </tr>\n",
       "  </thead>\n",
       "  <tbody>\n",
       "    <tr>\n",
       "      <th>1</th>\n",
       "      <td>69</td>\n",
       "      <td>42</td>\n",
       "      <td>85</td>\n",
       "    </tr>\n",
       "    <tr>\n",
       "      <th>2</th>\n",
       "      <td>27</td>\n",
       "      <td>36</td>\n",
       "      <td>55</td>\n",
       "    </tr>\n",
       "    <tr>\n",
       "      <th>3</th>\n",
       "      <td>33</td>\n",
       "      <td>52</td>\n",
       "      <td>73</td>\n",
       "    </tr>\n",
       "    <tr>\n",
       "      <th>4</th>\n",
       "      <td>71</td>\n",
       "      <td>52</td>\n",
       "      <td>31</td>\n",
       "    </tr>\n",
       "    <tr>\n",
       "      <th>5</th>\n",
       "      <td>34</td>\n",
       "      <td>44</td>\n",
       "      <td>55</td>\n",
       "    </tr>\n",
       "    <tr>\n",
       "      <th>6</th>\n",
       "      <td>81</td>\n",
       "      <td>46</td>\n",
       "      <td>96</td>\n",
       "    </tr>\n",
       "    <tr>\n",
       "      <th>7</th>\n",
       "      <td>70</td>\n",
       "      <td>25</td>\n",
       "      <td>68</td>\n",
       "    </tr>\n",
       "  </tbody>\n",
       "</table>\n",
       "</div>"
      ],
      "text/plain": [
       "     gr1  gr2  gr3\n",
       "Day               \n",
       "1     69   42   85\n",
       "2     27   36   55\n",
       "3     33   52   73\n",
       "4     71   52   31\n",
       "5     34   44   55\n",
       "6     81   46   96\n",
       "7     70   25   68"
      ]
     },
     "execution_count": 29,
     "metadata": {},
     "output_type": "execute_result"
    }
   ],
   "source": [
    "\n",
    "column1 = [69, 27, 33, 71, 34, 81, 70] \n",
    "column2 = [42, 36, 52, 52, 44, 46, 25]\n",
    "column3 = [85, 55, 73, 31, 55, 96, 68]\n",
    "\n",
    "dataset = pd.DataFrame({\"gr1\": column1,\"gr2\": column2,\"gr3\": column3},index = np.arange(1, len(column1)+1))\n",
    "dataset.index.name = \"Day\"\n",
    "\n",
    "dataset"
   ]
  },
  {
   "cell_type": "markdown",
   "metadata": {},
   "source": [
    "Розрахувати та вивести у вигляді таблиці статистичні характиристики даних (середні та стандартні відхилення для кожної з груп)."
   ]
  },
  {
   "cell_type": "code",
   "execution_count": 54,
   "metadata": {},
   "outputs": [
    {
     "data": {
      "text/html": [
       "<div>\n",
       "<style scoped>\n",
       "    .dataframe tbody tr th:only-of-type {\n",
       "        vertical-align: middle;\n",
       "    }\n",
       "\n",
       "    .dataframe tbody tr th {\n",
       "        vertical-align: top;\n",
       "    }\n",
       "\n",
       "    .dataframe thead th {\n",
       "        text-align: right;\n",
       "    }\n",
       "</style>\n",
       "<table border=\"1\" class=\"dataframe\">\n",
       "  <thead>\n",
       "    <tr style=\"text-align: right;\">\n",
       "      <th></th>\n",
       "      <th>gr1</th>\n",
       "      <th>gr2</th>\n",
       "      <th>gr3</th>\n",
       "    </tr>\n",
       "    <tr>\n",
       "      <th>Day</th>\n",
       "      <th></th>\n",
       "      <th></th>\n",
       "      <th></th>\n",
       "    </tr>\n",
       "  </thead>\n",
       "  <tbody>\n",
       "    <tr>\n",
       "      <th>1</th>\n",
       "      <td>69.00</td>\n",
       "      <td>42.00</td>\n",
       "      <td>85.00</td>\n",
       "    </tr>\n",
       "    <tr>\n",
       "      <th>2</th>\n",
       "      <td>27.00</td>\n",
       "      <td>36.00</td>\n",
       "      <td>55.00</td>\n",
       "    </tr>\n",
       "    <tr>\n",
       "      <th>3</th>\n",
       "      <td>33.00</td>\n",
       "      <td>52.00</td>\n",
       "      <td>73.00</td>\n",
       "    </tr>\n",
       "    <tr>\n",
       "      <th>4</th>\n",
       "      <td>71.00</td>\n",
       "      <td>52.00</td>\n",
       "      <td>31.00</td>\n",
       "    </tr>\n",
       "    <tr>\n",
       "      <th>5</th>\n",
       "      <td>34.00</td>\n",
       "      <td>44.00</td>\n",
       "      <td>55.00</td>\n",
       "    </tr>\n",
       "    <tr>\n",
       "      <th>6</th>\n",
       "      <td>81.00</td>\n",
       "      <td>46.00</td>\n",
       "      <td>96.00</td>\n",
       "    </tr>\n",
       "    <tr>\n",
       "      <th>7</th>\n",
       "      <td>70.00</td>\n",
       "      <td>25.00</td>\n",
       "      <td>68.00</td>\n",
       "    </tr>\n",
       "    <tr>\n",
       "      <th>mean deviation:</th>\n",
       "      <td>55.00</td>\n",
       "      <td>42.43</td>\n",
       "      <td>66.14</td>\n",
       "    </tr>\n",
       "    <tr>\n",
       "      <th>standard deviation:</th>\n",
       "      <td>22.59</td>\n",
       "      <td>9.52</td>\n",
       "      <td>21.53</td>\n",
       "    </tr>\n",
       "  </tbody>\n",
       "</table>\n",
       "</div>"
      ],
      "text/plain": [
       "                       gr1    gr2    gr3\n",
       "Day                                     \n",
       "1                    69.00  42.00  85.00\n",
       "2                    27.00  36.00  55.00\n",
       "3                    33.00  52.00  73.00\n",
       "4                    71.00  52.00  31.00\n",
       "5                    34.00  44.00  55.00\n",
       "6                    81.00  46.00  96.00\n",
       "7                    70.00  25.00  68.00\n",
       "mean deviation:      55.00  42.43  66.14\n",
       "standard deviation:  22.59   9.52  21.53"
      ]
     },
     "execution_count": 54,
     "metadata": {},
     "output_type": "execute_result"
    }
   ],
   "source": [
    "sum1=round((sum(column1)/len(column1)),2)\n",
    "sum2=round((sum(column2)/len(column2)),2)\n",
    "sum3=round((sum(column3)/len(column3)),2)\n",
    "sd1=round((dataset[\"gr1\"].std()),2)\n",
    "sd2=round((dataset[\"gr2\"].std()),2)\n",
    "sd3=round((dataset[\"gr3\"].std()),2)\n",
    "new_dataset = pd.DataFrame({\"gr1\": column1,\"gr2\": column2,\"gr3\": column3}, index = np.arange(1, len(column1)+1))\n",
    "new_dataset.index.name = \"Day\"\n",
    "new_dataset.loc[\"mean deviation:\"] = [sum1, sum2, sum3]\n",
    "new_dataset.loc[\"standard deviation:\"] = [sd1,sd2,sd3]\n",
    "new_dataset"
   ]
  },
  {
   "cell_type": "code",
   "execution_count": 55,
   "metadata": {},
   "outputs": [
    {
     "data": {
      "text/plain": [
       "[]"
      ]
     },
     "execution_count": 55,
     "metadata": {},
     "output_type": "execute_result"
    },
    {
     "data": {
      "image/png": "[encoded data removed]",
      "text/plain": [
       "<Figure size 432x288 with 1 Axes>"
      ]
     },
     "metadata": {
      "needs_background": "light"
     },
     "output_type": "display_data"
    }
   ],
   "source": [
    "sns.boxplot(data=dataset, orient='h').set()"
   ]
  },
  {
   "cell_type": "markdown",
   "metadata": {},
   "source": [
    "Побудувати функцію, що реалізовує однофакторний дисперсійний аналіз.\n",
    "Вивести результати розрахунку кожного з етапів вказаних вище у вигляді таблиці."
   ]
  },
  {
   "cell_type": "code",
   "execution_count": 68,
   "metadata": {},
   "outputs": [],
   "source": [
    "def dispersia(li):\n",
    "    k = (len(li.iloc[0,:]))\n",
    "    Tk = 0\n",
    "    Tk2 = 0\n",
    "    for i in range (k):\n",
    "        Tk = sum(li.iloc[:,i])\n",
    "        Tk2+=(Tk)**2    \n",
    "    n = 0\n",
    "    N = 0    \n",
    "    for i in range(k):\n",
    "        n = len(li.iloc[:,i])\n",
    "        N += n\n",
    "    summ2 = 0\n",
    "    T = 0    \n",
    "    for i in range (k):\n",
    "        T = sum(li.iloc[:,i])\n",
    "        summ2 += T        \n",
    "    summ2 = (summ2)**2\n",
    "    summ1 = 0    \n",
    "    for i in range (k):\n",
    "        for j in range(len(li.iloc[:,i-1])):\n",
    "            summ1 += (li.iloc[j][i])**2                      \n",
    "    Konstantne = summ2 / N\n",
    "    SSInFact = (Tk2 / n) -  Konstantne\n",
    "    SSGeneral = summ1 - ((summ2) / N)\n",
    "    SSRand = SSGeneral - SSInFact \n",
    "    dInfact = k - 1\n",
    "    dGeneral = N - 1\n",
    "    dRand = dGeneral  - dInfact \n",
    "    MSInFact = SSInFact / dInfact \n",
    "    MSRand =  SSRand / dRand\n",
    "    Femp = MSInFact /  MSRand    \n",
    "    if((26 < (dRand) and (dRand) <= 28)):\n",
    "        dRand = 26        \n",
    "    elif((28 < (dRand) and (dRand) <= 30)):\n",
    "        dRand = 27        \n",
    "    elif((dRand) > 30 and (dRand) <= 40):\n",
    "        dRand = 28        \n",
    "    elif((dRand) > 40 and (dRand) <= 60):\n",
    "        dRand = 29        \n",
    "    elif((dRand) > 60 and (dRand) <= 120):\n",
    "        dRand = 30        \n",
    "    elif((dRand) > 120):\n",
    "        dRand = 31        \n",
    "    else:\n",
    "        dRand = dRand\n",
    "    if(10 < n and n <= 15):\n",
    "        dInfact = 11        \n",
    "    elif(15 < n and n <= 20):\n",
    "        dInfact = 12        \n",
    "    elif(20 < n and n <= 30):\n",
    "        dInfact = 13        \n",
    "    elif(n > 30):\n",
    "        dInfact = 14\n",
    "    else:\n",
    "        dInfact = k - 1\n",
    "    Fcritical = pd.read_excel(\"_Таблиця критичних значень для критерію Фішера.xlsx_\").iloc[dRand,dInfact]  \n",
    "    \n",
    "    if(Femp <= Fcritical):\n",
    "        print(\"Pівність середніх підтверджена\")\n",
    "               \n",
    "    else:\n",
    "        print(\"Pівність середніх не підтверджена\") \n",
    "    indexs = [\"SS(in_fact)\", \"SS(general)\", \"SS(random)\", \"d(in_fact)\", \"d(general)\", \"d(random)\", \"MS()in_fact)\", \"MS(random\", \"F(еmperical)\", \"F(critical))\"]\n",
    "    n__dataset = pd.DataFrame({\"calculated value\" : [ str(round(SSInFact,2)) , str(round(SSGeneral,2)) ,str(round( SSRand,2)),str(dInfact ),str(dGeneral ), str(dRand), str(round(MSInFact,2)),str(round( MSRand,2)),str(round(Femp,2)), str(Fcritical)]},index = indexs)\n",
    "    n__dataset.columns.name = \"characteristic\"\n",
    "    \n",
    "    return n__dataset"
   ]
  },
  {
   "cell_type": "markdown",
   "metadata": {},
   "source": [
    "Перевірити результат роботи функції на реальних або сгенерованих даних. Зробити висновок."
   ]
  },
  {
   "cell_type": "code",
   "execution_count": 69,
   "metadata": {},
   "outputs": [
    {
     "name": "stdout",
     "output_type": "stream",
     "text": [
      "Pівність середніх підтверджена\n"
     ]
    },
    {
     "data": {
      "text/html": [
       "<div>\n",
       "<style scoped>\n",
       "    .dataframe tbody tr th:only-of-type {\n",
       "        vertical-align: middle;\n",
       "    }\n",
       "\n",
       "    .dataframe tbody tr th {\n",
       "        vertical-align: top;\n",
       "    }\n",
       "\n",
       "    .dataframe thead th {\n",
       "        text-align: right;\n",
       "    }\n",
       "</style>\n",
       "<table border=\"1\" class=\"dataframe\">\n",
       "  <thead>\n",
       "    <tr style=\"text-align: right;\">\n",
       "      <th>characteristic</th>\n",
       "      <th>calculated value</th>\n",
       "    </tr>\n",
       "  </thead>\n",
       "  <tbody>\n",
       "    <tr>\n",
       "      <th>SS(in_fact)</th>\n",
       "      <td>1970.67</td>\n",
       "    </tr>\n",
       "    <tr>\n",
       "      <th>SS(general)</th>\n",
       "      <td>8357.24</td>\n",
       "    </tr>\n",
       "    <tr>\n",
       "      <th>SS(random)</th>\n",
       "      <td>6386.57</td>\n",
       "    </tr>\n",
       "    <tr>\n",
       "      <th>d(in_fact)</th>\n",
       "      <td>2</td>\n",
       "    </tr>\n",
       "    <tr>\n",
       "      <th>d(general)</th>\n",
       "      <td>20</td>\n",
       "    </tr>\n",
       "    <tr>\n",
       "      <th>d(random)</th>\n",
       "      <td>18</td>\n",
       "    </tr>\n",
       "    <tr>\n",
       "      <th>MS()in_fact)</th>\n",
       "      <td>985.33</td>\n",
       "    </tr>\n",
       "    <tr>\n",
       "      <th>MS(random</th>\n",
       "      <td>354.81</td>\n",
       "    </tr>\n",
       "    <tr>\n",
       "      <th>F(еmperical)</th>\n",
       "      <td>2.78</td>\n",
       "    </tr>\n",
       "    <tr>\n",
       "      <th>F(critical))</th>\n",
       "      <td>3.5</td>\n",
       "    </tr>\n",
       "  </tbody>\n",
       "</table>\n",
       "</div>"
      ],
      "text/plain": [
       "characteristic calculated value\n",
       "SS(in_fact)             1970.67\n",
       "SS(general)             8357.24\n",
       "SS(random)              6386.57\n",
       "d(in_fact)                    2\n",
       "d(general)                   20\n",
       "d(random)                    18\n",
       "MS()in_fact)             985.33\n",
       "MS(random                354.81\n",
       "F(еmperical)               2.78\n",
       "F(critical))                3.5"
      ]
     },
     "execution_count": 69,
     "metadata": {},
     "output_type": "execute_result"
    }
   ],
   "source": [
    "dispersia(dataset)"
   ]
  },
  {
   "cell_type": "markdown",
   "metadata": {},
   "source": [
    "Висновок: Для даних трьох груп, згенерованих нормальним розподілом, дисперсійний аналіз підтвердив рівність середніх у группах, нульова гіпотеза підтверджена"
   ]
  }
 ],
 "metadata": {
  "kernelspec": {
   "display_name": "Python 3",
   "language": "python",
   "name": "python3"
  },
  "language_info": {
   "codemirror_mode": {
    "name": "ipython",
    "version": 3
   },
   "file_extension": ".py",
   "mimetype": "text/x-python",
   "name": "python",
   "nbconvert_exporter": "python",
   "pygments_lexer": "ipython3",
   "version": "3.8.2"
  }
 },
 "nbformat": 4,
 "nbformat_minor": 4
}
