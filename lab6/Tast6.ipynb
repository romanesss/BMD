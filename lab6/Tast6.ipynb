{
 "cells": [
  {
   "cell_type": "markdown",
   "metadata": {
    "colab_type": "text",
    "id": "nVYjIYs6RrPC"
   },
   "source": [
    "#Парний t-критерій Стьюдента"
   ]
  },
  {
   "cell_type": "markdown",
   "metadata": {
    "colab_type": "text",
    "id": "XXsl5rFgSnTy"
   },
   "source": [
    "##Теоретичні відомості"
   ]
  },
  {
   "cell_type": "markdown",
   "metadata": {
    "colab_type": "text",
    "id": "PssXphh9SrEZ"
   },
   "source": [
    "### Область застосування"
   ]
  },
  {
   "cell_type": "markdown",
   "metadata": {
    "colab_type": "text",
    "id": "AmI6S5ibR9LK"
   },
   "source": [
    "t-критерій для парних вибірок застосовується для порівняння двох середніх значень отриманих від одного і того об'єкта. Два середніх можуть відображати такі явища, як:\n",
    "\n",
    "* Вимірювання одного показника, які проведено в два різних моменти часу (наприклад, до і після тесту з проведеним втручанням між двома часовими точками)\n",
    "* Вимірювання, проведене в двох різних умовах (наприклад, завершення тесту в умовах «контролю» і «експерименту»)\n",
    "* Вимірювання проводяться з двох половин або сторін від суб'єкта або експериментальної одиниці (наприклад, вимір втрати слуху в лівому і правому вухах суб'єкта).\n",
    "\n",
    "**Мета тесту** - визначити, чи є статистичні докази того, що середнє розходження між парними спостереженнями  значно відрізняється від нуля. t-критерій для парних вибірок - це параметричний тест."
   ]
  },
  {
   "cell_type": "markdown",
   "metadata": {
    "colab_type": "text",
    "id": "JM-Yi2bCV-ki"
   },
   "source": [
    "### Вимоги до даних"
   ]
  },
  {
   "cell_type": "markdown",
   "metadata": {
    "colab_type": "text",
    "id": "34fQ92DpUGbE"
   },
   "source": [
    "Для використання даного критерію обов'язковим є:\n",
    "\n",
    "\n",
    "1.   Залежна змінна має бути безперервною.\n",
    "2.   Групи мають бути залежними.\n",
    "3. Кількість груп не може бути більшою ніж 2.\n",
    "4. Кількість обьектів в групах однакова (кожному спостереженню об'єкта в першій групі відповідає спостереження в другій).\n",
    "5. Залежна змінна має мати нормальний розподіл.\n",
    "\n"
   ]
  },
  {
   "cell_type": "markdown",
   "metadata": {
    "colab_type": "text",
    "id": "QbCE8jwcaSEr"
   },
   "source": [
    "**bold text**### Гіпотеза"
   ]
  },
  {
   "cell_type": "markdown",
   "metadata": {
    "colab_type": "text",
    "id": "rq2hTPtmaV1p"
   },
   "source": [
    "Гіпотеза, яка перевіряєть даним тестом може бути виражена наступним чином:\n",
    "\n",
    "$H_0 : μ_1  = μ_2$ («парні групи рівні»)\n",
    "\n",
    "$H_1 : μ_1  ≠ μ_2$ («парні групи відмінні»)\n",
    "\n",
    "або:\n",
    "\n",
    "$H_0 : μ_1  - μ_2 = 0$ («різниця між середніми у парних групах за показником, що досліджується рівна 0»)\n",
    "\n",
    "$H_1 : μ_1 -  μ_2$ ≠ 0 $ («різниця між середніми у парних групах за показником, що досліджується не рівна 0»)\n",
    "\n",
    "Тут $μ_1$ - середнє значення змінної в першій групі; $μ_2$ - середнє значення змінної в першій групі."
   ]
  },
  {
   "cell_type": "markdown",
   "metadata": {
    "colab_type": "text",
    "id": "7TMrlGz4bXuH"
   },
   "source": [
    "### Алгоритм розрахунку"
   ]
  },
  {
   "cell_type": "markdown",
   "metadata": {
    "colab_type": "text",
    "id": "hKV0qbE0blUT"
   },
   "source": [
    "#### Аналіз залежності між групами"
   ]
  },
  {
   "cell_type": "markdown",
   "metadata": {
    "colab_type": "text",
    "id": "mmfhYMmocyC1"
   },
   "source": [
    "Перед визначенням відмінності за парним критерієм Стьюента необхідно перевірити чи є зв'язок між групами.\n",
    "Для цього використовують коефіцієнт кореляції Пірсона. Його розраховують за формулою:\n",
    "$$ r = \\frac{n\\cdot \\sum(x_i\\cdot y_i) - (\\sum x_i \\cdot \\sum y_i)}{\\sqrt{(n\\cdot \\sum x_i^2 - (\\sum x_i) ^2) \\cdot (n\\cdot \\sum y_i^2 - (\\sum y_i) ^2)}} $$\n",
    "\n",
    "При знаходженні критичних значень для обчисленого коефіцієнта кореляції Пірсона  число ступенів свободи розраховується як $ df = n - 2 $. Знайдіть у [таблиці](https://drive.google.com/open?id=1e2bk9_U3qg3SVZ-lmeLkJcLQywm6fetc) рядок з відповідним або найбільш близьким df.\n",
    "\n",
    "Якщо отриманий коефіцієнт кореляції більше табличного - існує статистично значима залежність між групами.\n",
    "\n",
    "Величину зв'зку можна оцінити а таблицею:\n",
    "\n",
    "\n",
    "Значення r  | Висновок |\n",
    "------------- | ------------- |\n",
    "0-0,3  | дуже слабкий  |\n",
    "0,31-0,5  | слабкий   |\n",
    "0,51-0,7  | середній   |\n",
    "0,71-0,9  | високий   |\n",
    "0,91-1  | дуже високий   |\n",
    "\n"
   ]
  },
  {
   "cell_type": "markdown",
   "metadata": {
    "colab_type": "text",
    "id": "KgENLjetczvG"
   },
   "source": [
    "#### Аналіз відмінності між групами"
   ]
  },
  {
   "cell_type": "markdown",
   "metadata": {
    "colab_type": "text",
    "id": "YlJy8hjG_qyc"
   },
   "source": [
    "1. Розрахунок різниці між парними значеннями для кожного об'єкта. Приклад:\n",
    "\n",
    "Група 1 (до)  | Група 2 (після) | Різниця ($d$) |\n",
    "------------- | ------------- |--------- |\n",
    "3  | 5  | -2   |\n",
    "1  | 8   | -7   |\n",
    "10  | 0   | 10   |\n",
    "\n",
    "2. Розрахунок стататистичних показників:\n",
    "\n",
    "\n",
    "*   Середнє значення різниці між значеннями ($M_d$).\n",
    "*   Стандарне відхилення різниці між заченнями ($\\sigma_d$).\n",
    "3. Розрахунок значення t-критерію Стюдента за формулою:\n",
    "\n",
    "$$t_{emp} = \\frac{M_d}{\\sigma_d}\\cdot\\sqrt{n}\\$$\n",
    "\n",
    "4. Визначення ступеня свободи критерію:\n",
    "\n",
    "$$ df = n - 1 $$\n",
    "\n",
    "5. Визначимо по  [таблиці критичних значень](https://drive.google.com/open?id=1e2bk9_U3qg3SVZ-lmeLkJcLQywm6fetc)  t-Стьюдента рівень значущості. Знайдіть у таблиці рядок з відповідним або найбільш близьким df.\n",
    "Якщо $t_{emp} > t_{critical}$  приймається альтернативна гіпотеза про відмінність в середніх, в протилежному випадку - приймається нульова гіпотеза про рівність середніх."
   ]
  },
  {
   "cell_type": "markdown",
   "metadata": {
    "colab_type": "text",
    "id": "uzWnVaq1PU-l"
   },
   "source": [
    "# Завдання\n",
    "\n",
    "1. Обрати реальні дані з kaggle або сгенерувати випадкові дані. Дані мають відповідати вимогам викладеним вище. Формат даних:\n",
    "\n",
    "| Група 1 | Група 2  | \n",
    "| ------------- |--------- |\n",
    "| $k_{1}  $   | $k_{2}$   |\n",
    "| $...$   | $...$   |\n",
    "| $k_{1n}$   | $k_{2n}$   |\n",
    "\n",
    "2. Побудувати графік, що відображає розкид даних в групах. Приклад:\n",
    "![alt text](https://s3.amazonaws.com/libapps/accounts/2515/images/spss_paired-t_example_boxplot.PNG)\n",
    "\n",
    "3. Написати функції:\n",
    "* для оцінки зв'язку між групами за коефіцієнтом кореляції Пірсона. Функція має повертати значення коефіцієнту кореляції, значення ступеня свободи та результат оцінки значимості зв'зку (significant або not significant).\n",
    "\n",
    "* для визначення відмінності між групами за критерієм Стьюдента. Функція має повертати значення критерію Стьюдента,значення ступеня свободи та результат оцінки значимості зв'зку (significant або not significant). \n",
    "\n",
    "4. Перевірити розбіжність на між групами на даних з п. 1. \n",
    "\n",
    "5. Сформувати висновок про взаємозв'язок між групами та про їх розбіжність. "
   ]
  },
  {
   "cell_type": "markdown",
   "metadata": {},
   "source": [
    "<h1>Обробка та аналіз БМД</h1>\n",
    "<h2>Гаврилюк Р.В БС-82 Лаб 6 Парний t-критерій Стьюдента </h2>\n",
    "\n",
    "\n",
    "<h1>1.Обрати реальні дані з kaggle або сгенерувати випадкові дані. Дані мають відповідати вимогам викладеним вище. Формат даних:</h1>"
   ]
  },
  {
   "cell_type": "code",
   "execution_count": 1,
   "metadata": {},
   "outputs": [],
   "source": [
    "import pandas as pd\n",
    "import matplotlib.pyplot as plt\n",
    "from numpy.random import randint\n",
    "import seaborn as sns\n",
    "import scipy.stats as ss\n",
    "import numpy as np\n",
    "import math\n",
    "\n"
   ]
  },
  {
   "cell_type": "code",
   "execution_count": 2,
   "metadata": {},
   "outputs": [
    {
     "data": {
      "text/html": [
       "<div>\n",
       "<style scoped>\n",
       "    .dataframe tbody tr th:only-of-type {\n",
       "        vertical-align: middle;\n",
       "    }\n",
       "\n",
       "    .dataframe tbody tr th {\n",
       "        vertical-align: top;\n",
       "    }\n",
       "\n",
       "    .dataframe thead th {\n",
       "        text-align: right;\n",
       "    }\n",
       "</style>\n",
       "<table border=\"1\" class=\"dataframe\">\n",
       "  <thead>\n",
       "    <tr style=\"text-align: right;\">\n",
       "      <th></th>\n",
       "      <th>ITALY</th>\n",
       "      <th>SPAIN</th>\n",
       "    </tr>\n",
       "    <tr>\n",
       "      <th>Кі-ть аварій станом на</th>\n",
       "      <th></th>\n",
       "      <th></th>\n",
       "    </tr>\n",
       "  </thead>\n",
       "  <tbody>\n",
       "    <tr>\n",
       "      <th>21.03.2020</th>\n",
       "      <td>175</td>\n",
       "      <td>229</td>\n",
       "    </tr>\n",
       "    <tr>\n",
       "      <th>22.03</th>\n",
       "      <td>138</td>\n",
       "      <td>250</td>\n",
       "    </tr>\n",
       "    <tr>\n",
       "      <th>23.03</th>\n",
       "      <td>69</td>\n",
       "      <td>197</td>\n",
       "    </tr>\n",
       "    <tr>\n",
       "      <th>24.03</th>\n",
       "      <td>5</td>\n",
       "      <td>292</td>\n",
       "    </tr>\n",
       "    <tr>\n",
       "      <th>25.03</th>\n",
       "      <td>64</td>\n",
       "      <td>35</td>\n",
       "    </tr>\n",
       "    <tr>\n",
       "      <th>26.03</th>\n",
       "      <td>157</td>\n",
       "      <td>47</td>\n",
       "    </tr>\n",
       "    <tr>\n",
       "      <th>27.03</th>\n",
       "      <td>224</td>\n",
       "      <td>170</td>\n",
       "    </tr>\n",
       "    <tr>\n",
       "      <th>28.03</th>\n",
       "      <td>153</td>\n",
       "      <td>112</td>\n",
       "    </tr>\n",
       "    <tr>\n",
       "      <th>29.03.20</th>\n",
       "      <td>228</td>\n",
       "      <td>213</td>\n",
       "    </tr>\n",
       "  </tbody>\n",
       "</table>\n",
       "</div>"
      ],
      "text/plain": [
       "                        ITALY  SPAIN\n",
       "Кі-ть аварій станом на              \n",
       "21.03.2020                175    229\n",
       "22.03                     138    250\n",
       "23.03                      69    197\n",
       "24.03                       5    292\n",
       "25.03                      64     35\n",
       "26.03                     157     47\n",
       "27.03                     224    170\n",
       "28.03                     153    112\n",
       "29.03.20                  228    213"
      ]
     },
     "execution_count": 2,
     "metadata": {},
     "output_type": "execute_result"
    }
   ],
   "source": [
    "tab1 = randint(0, 300, 9)\n",
    "tab2 = randint(0, 300, 9)\n",
    "tab = pd.DataFrame({\"ITALY\": tab1, \"SPAIN\": tab2,}, index = [\"21.03.2020\",\"22.03\", \"23.03\",\"24.03\", \"25.03\", \"26.03\", \"27.03\",\"28.03\",\"29.03.20\"])\n",
    "tab.index.name = 'Кі-ть аварій станом на'\n",
    "tab"
   ]
  },
  {
   "cell_type": "markdown",
   "metadata": {},
   "source": [
    "<h1>2.Побудувати графік, що відображає розкид даних в групах. Приклад:</h1>"
   ]
  },
  {
   "cell_type": "code",
   "execution_count": 3,
   "metadata": {},
   "outputs": [
    {
     "data": {
      "text/plain": [
       "[Text(0.5, 0, 'Кі-сть аварій')]"
      ]
     },
     "execution_count": 3,
     "metadata": {},
     "output_type": "execute_result"
    },
    {
     "data": {
      "image/png": "[encoded data removed]",
      "text/plain": [
       "<Figure size 432x288 with 1 Axes>"
      ]
     },
     "metadata": {
      "needs_background": "light"
     },
     "output_type": "display_data"
    }
   ],
   "source": [
    "sns.boxplot(data = tab, orient = 'h').set(xlabel = 'Кі-сть аварій')"
   ]
  },
  {
   "cell_type": "markdown",
   "metadata": {},
   "source": [
    "<h1>3.Написати функції:</h1>\n",
    "\n",
    "для оцінки зв'язку між групами за коефіцієнтом кореляції Пірсона. Функція має повертати значення коефіцієнту кореляції, значення ступеня свободи та результат оцінки значимості зв'зку (significant або not significant).\n",
    "\n",
    "для визначення відмінності між групами за критерієм Стьюдента. Функція має повертати значення критерію Стьюдента,значення ступеня свободи та результат оцінки значимості зв'зку (significant або not significant)."
   ]
  },
  {
   "cell_type": "code",
   "execution_count": 43,
   "metadata": {},
   "outputs": [],
   "source": [
    "def Pirson(x, y):\n",
    "    n = len(x)\n",
    "    sum1 = ( sum(x * y) - len(x) * (sum(x)/len(x)) * (sum(y)/len(x)) )\n",
    "    sum2 = ( len(x) * ( ( ( sum(x**2)/len(x) - (sum(x)/len(x))**2 ) * ( sum(y**2)/len(x) - (sum(y)/len(x))**2) ) )**(1/2) )\n",
    "    r = sum1 / sum2\n",
    "    print(\"Значення коефіцієнту кореляції: \" + str(r))\n",
    "    tab = n - 2\n",
    "    print(\"Значення ступеня свободи: \" + str(tab))\n",
    "    critical_table = pd.read_excel(\"Таблиця критичних значень кореляційного аналізу.xlsx\")\n",
    "    a =  critical_table.loc[tab - 1, 0.05]\n",
    "    print(\"Критичне значення коефіцієнту кореляції = \" + str(a))\n",
    "    result = (\"significant\") if abs(r) > a     else \"not significant\"\n",
    "    print(\"Результат оцінки значимості зв'зку: \" + result)\n",
    "    return r, tab, result"
   ]
  },
  {
   "cell_type": "code",
   "execution_count": 46,
   "metadata": {},
   "outputs": [],
   "source": [
    "def Student(x, y):\n",
    "    dif = x - y\n",
    "    n = len(x)\n",
    "    M = dif.mean()\n",
    "    Sig = dif.std()\n",
    "    t = (M/Sig) * (n)**(1/2)\n",
    "    print(\"Значення t-критерію Стьюдента: t = \"  + str(t))\n",
    "    tab = n - 1\n",
    "    print('Значення ступеня свободи: df = ' + str(tab))\n",
    "    critical_table = pd.read_excel(\"Таблица критических значений для парного критерия.xlsx\")\n",
    "    a = critical_table.loc[tab - 1, 0.05]\n",
    "    print(\"Критичне значення коефіцієнту Стьюдента = \" + str(a))\n",
    "    result = (\"significant\") if abs(t) > a else \"not significant\"\n",
    "    print(\"Результат оцінки значимості зв'зку: \" + result)\n",
    "    return t, tab, result"
   ]
  },
  {
   "cell_type": "markdown",
   "metadata": {},
   "source": [
    "<h1>4.Перевірити розбіжність на між групами на даних з п. 1./h1>"
   ]
  },
  {
   "cell_type": "code",
   "execution_count": 40,
   "metadata": {},
   "outputs": [
    {
     "name": "stdout",
     "output_type": "stream",
     "text": [
      "Значення коефіцієнту кореляції: -0.09665193712385686\n",
      "Значення ступеня свободи: 7\n",
      "Критичне значення коефіцієнту кореляції = 0.6664\n",
      "Результат оцінки значимості зв'зку: not significant\n"
     ]
    },
    {
     "data": {
      "text/plain": [
       "(-0.09665193712385686, 7, 'not significant')"
      ]
     },
     "execution_count": 40,
     "metadata": {},
     "output_type": "execute_result"
    }
   ],
   "source": [
    "Pirson(tab1,tab2)"
   ]
  },
  {
   "cell_type": "code",
   "execution_count": 47,
   "metadata": {},
   "outputs": [
    {
     "name": "stdout",
     "output_type": "stream",
     "text": [
      "Значення t-критерію Стьюдента: t = -0.9594859234579376\n",
      "Значення ступеня свободи: df = 8\n",
      "Критичне значення коефіцієнту Стьюдента = 2.306\n",
      "Результат оцінки значимості зв'зку: not significant\n"
     ]
    },
    {
     "data": {
      "text/plain": [
       "(-0.9594859234579376, 8, 'not significant')"
      ]
     },
     "execution_count": 47,
     "metadata": {},
     "output_type": "execute_result"
    }
   ],
   "source": [
    "Student(tab1,tab2)"
   ]
  },
  {
   "cell_type": "markdown",
   "metadata": {},
   "source": [
    "5.Сформувати висновок про взаємозв'язок між групами та про їх розбіжність.\n",
    "\n",
    "Висновок:\n",
    "\n",
    "1)Під час аналізу залежності між групами за допомогою критерія Пірсона я отримав результат, який стверджує, що статистичної залежності немає.\n",
    "\n",
    "2)Під час аналізу відмінності між групами за допомогою критерія t-Стьюдента, було прийнято нульову гіпотезу про рівність середніх."
   ]
  }
 ],
 "metadata": {
  "colab": {
   "authorship_tag": "ABX9TyMECvYvylPfpHunuzzVsJBS",
   "name": "Tast6.ipynb",
   "provenance": []
  },
  "kernelspec": {
   "display_name": "Python 3",
   "language": "python",
   "name": "python3"
  },
  "language_info": {
   "codemirror_mode": {
    "name": "ipython",
    "version": 3
   },
   "file_extension": ".py",
   "mimetype": "text/x-python",
   "name": "python",
   "nbconvert_exporter": "python",
   "pygments_lexer": "ipython3",
   "version": "3.8.2"
  }
 },
 "nbformat": 4,
 "nbformat_minor": 1
}
