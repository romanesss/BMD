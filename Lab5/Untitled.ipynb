{
 "cells": [
  {
   "cell_type": "markdown",
   "metadata": {},
   "source": [
    "<h1>Лабораторная работа №5</h1>\n",
    "<h2>Обрати реальні дані з kaggle або сгенерувати випадкові дані, що містять розподіл деякої ознаки в двох групах.</h2>"
   ]
  },
  {
   "cell_type": "code",
   "execution_count": 18,
   "metadata": {},
   "outputs": [],
   "source": [
    "import pandas as pd\n",
    "import seaborn as sns\n",
    "import numpy as np\n",
    "import scipy\n",
    "import matplotlib.pyplot as plt\n",
    "%matplotlib inline\n"
   ]
  },
  {
   "cell_type": "code",
   "execution_count": 40,
   "metadata": {},
   "outputs": [
    {
     "data": {
      "text/html": [
       "<div>\n",
       "<style scoped>\n",
       "    .dataframe tbody tr th:only-of-type {\n",
       "        vertical-align: middle;\n",
       "    }\n",
       "\n",
       "    .dataframe tbody tr th {\n",
       "        vertical-align: top;\n",
       "    }\n",
       "\n",
       "    .dataframe thead th {\n",
       "        text-align: right;\n",
       "    }\n",
       "</style>\n",
       "<table border=\"1\" class=\"dataframe\">\n",
       "  <thead>\n",
       "    <tr style=\"text-align: right;\">\n",
       "      <th></th>\n",
       "      <th>Znach</th>\n",
       "      <th>Gr1</th>\n",
       "      <th>Gr2</th>\n",
       "    </tr>\n",
       "  </thead>\n",
       "  <tbody>\n",
       "    <tr>\n",
       "      <th>0</th>\n",
       "      <td>Zn1</td>\n",
       "      <td>99</td>\n",
       "      <td>83</td>\n",
       "    </tr>\n",
       "    <tr>\n",
       "      <th>1</th>\n",
       "      <td>Zn2</td>\n",
       "      <td>1</td>\n",
       "      <td>14</td>\n",
       "    </tr>\n",
       "    <tr>\n",
       "      <th>2</th>\n",
       "      <td>Zn3</td>\n",
       "      <td>24</td>\n",
       "      <td>29</td>\n",
       "    </tr>\n",
       "    <tr>\n",
       "      <th>3</th>\n",
       "      <td>Zn4</td>\n",
       "      <td>16</td>\n",
       "      <td>12</td>\n",
       "    </tr>\n",
       "    <tr>\n",
       "      <th>4</th>\n",
       "      <td>Zn5</td>\n",
       "      <td>32</td>\n",
       "      <td>56</td>\n",
       "    </tr>\n",
       "    <tr>\n",
       "      <th>5</th>\n",
       "      <td>Zn6</td>\n",
       "      <td>69</td>\n",
       "      <td>69</td>\n",
       "    </tr>\n",
       "    <tr>\n",
       "      <th>6</th>\n",
       "      <td>Zn6</td>\n",
       "      <td>5</td>\n",
       "      <td>11</td>\n",
       "    </tr>\n",
       "  </tbody>\n",
       "</table>\n",
       "</div>"
      ],
      "text/plain": [
       "  Znach  Gr1  Gr2\n",
       "0   Zn1   99   83\n",
       "1   Zn2    1   14\n",
       "2   Zn3   24   29\n",
       "3   Zn4   16   12\n",
       "4   Zn5   32   56\n",
       "5   Zn6   69   69\n",
       "6   Zn6    5   11"
      ]
     },
     "execution_count": 40,
     "metadata": {},
     "output_type": "execute_result"
    }
   ],
   "source": [
    "tab = pd.DataFrame({\n",
    "    \"Znach\":[\"Zn1\", \"Zn2\", \"Zn3\", \"Zn4\", \"Zn5\",\"Zn6\",\"Zn6\"],\n",
    "    \"Gr1\":[99, 1, 24, 16, 32,69,5],\n",
    "    \"Gr2\":[83, 14, 29, 12, 56,69,11]\n",
    "})\n",
    "tab"
   ]
  },
  {
   "cell_type": "markdown",
   "metadata": {},
   "source": [
    "2. Побудувати графік, що відображає розподіл ознак в групах."
   ]
  },
  {
   "cell_type": "code",
   "execution_count": 41,
   "metadata": {
    "scrolled": true
   },
   "outputs": [
    {
     "data": {
      "image/png": "[encoded data removed]",
      "text/plain": [
       "<Figure size 432x288 with 2 Axes>"
      ]
     },
     "metadata": {
      "needs_background": "light"
     },
     "output_type": "display_data"
    }
   ],
   "source": [
    "plt.subplot(1,2,1)\n",
    "plt.plot(tab[\"Gr1\"],marker = '2', color='r')\n",
    "plt.xlabel(\"Znach\")\n",
    "plt.ylabel(\"Gr1\")\n",
    "plt.subplot(1,2,2)\n",
    "plt.plot(tab[\"Gr2\"],marker = '2', color='r')\n",
    "plt.xlabel(\"Znach\")\n",
    "plt.ylabel(\"Gr2\")\n",
    "\n",
    "plt.tight_layout()"
   ]
  },
  {
   "cell_type": "markdown",
   "metadata": {},
   "source": [
    "3. Написати функції, що оцінює зв'язок між ознакою та групою за критерієм Пірсона. Функція має оцінювати розбіжність на двох рівнях - 0,001 та 0,05, в залежністі від параметру significant_level, що передається в неї. Врахувати у функції випадок, що сума частот ознаки у групах може бути відмінною."
   ]
  },
  {
   "cell_type": "code",
   "execution_count": 44,
   "metadata": {},
   "outputs": [
    {
     "name": "stdout",
     "output_type": "stream",
     "text": [
      "Хі квадрат за даними:  37.197976219558754\n",
      "Число ступенів свободи:  6\n",
      "X^2 критичне:  16.8\n"
     ]
    },
    {
     "data": {
      "text/plain": [
       "'Є розбіжність : 37.197976219558754 Дано > 16.8критичне'"
      ]
     },
     "execution_count": 44,
     "metadata": {},
     "output_type": "execute_result"
    }
   ],
   "source": [
    "def Pirson(tab, level):\n",
    "    tab1 = sum(tab.iloc[:,1])\n",
    "    tab2 = sum(tab.iloc[:,2])\n",
    "    \n",
    "    \n",
    "    if tab1 == tab2:\n",
    "        print(\"good\")\n",
    "        \n",
    "        \n",
    "    elif tab1 < tab2:\n",
    "        for i in range(data.shape[0]):\n",
    "            tempi = tab.iloc[i,1]\n",
    "            temp = (tempi * 100)/tab1\n",
    "            tab.iloc[i,1] = (temp * tab2)/100\n",
    "    else:\n",
    "        \n",
    "        for i in range(tab.shape[0]):\n",
    "            tempi = tab.iloc[i,2]\n",
    "            temp = (tempi * 100)/tab2\n",
    "            k = temp * tab1\n",
    "            tabiloc[i,2] = k/100\n",
    "    \n",
    "    tab['ni-ni^2'] = 0\n",
    "    tab['ni-ni^2'] = (tab.iloc[:,1] - tab.iloc[:,2])**2\n",
    "    tab[\"(ni-ni)^2/ni^2\"] = 0\n",
    "    tab[\"(ni-ni)^2/ni^2\"] = tab[\"ni-ni^2\"]/tab.iloc[:,2]\n",
    "    \n",
    "    \n",
    "    xi = sum(tab[\"(ni-ni)^2/ni^2\"])\n",
    "    print(\"Хі квадрат за даними: \", xi)\n",
    "    print(\"Число ступенів свободи: \",tab.shape[0]-1)\n",
    "    \n",
    "    c = pd.read_excel(\"Таблиця критичних значень для критерію Пірсона.xlsx\").iloc[tab.shape[0]-1, 1 if(level == 0.01) else 2]\n",
    "    print(\"X^2 критичне: \", c)\n",
    "    \n",
    "    return \"Є розбіжність : \" + str(xi) + \" Дано > \" + str(c) + \"критичне\" if (xi > c) else \"Розбіжності немає\" \n",
    "Pirson(tab, 0.01)"
   ]
  },
  {
   "cell_type": "markdown",
   "metadata": {},
   "source": [
    "4. Перевірити розбіжність на між групами на даних з п. 1. В результаті сформувати таблицю спряженості .\n",
    "Додати до таблиці стовбчики з відсотовим розподілом по градаціям всередині груп. Окремо вивести результати роботи критерію (чи є статистична розбіжність між групами)."
   ]
  },
  {
   "cell_type": "code",
   "execution_count": 56,
   "metadata": {},
   "outputs": [],
   "source": [
    "tabl = pd.DataFrame({\n",
    "    \"Znach\":[\"Zn1\", \"Zn2\", \"Zn3\", \"Zn4\", \"Zn5\",\"Zn6\",\"Zn6\"],\n",
    "    \"Gr1\":[99, 1, 24, 16, 32,69,5],\n",
    "    \"Gr2\":[83, 14, 29, 12, 56,69,11],\n",
    "    \"%1\": '-',\n",
    "    \"%2\":'-'\n",
    "})\n",
    "sum1 = sum(tab_new[\"Gr1\"])*100\n",
    "sum2 = sum(tab_new[\"Gr2\"])*100\n",
    "\n",
    "tab_new[\"%1\"] = round(tab_new[\"Gr1\"]/sum1)\n",
    "tab_new[\"%2\"] = round(tab_new[\"Gr2\"]/sum2)"
   ]
  },
  {
   "cell_type": "code",
   "execution_count": 57,
   "metadata": {},
   "outputs": [
    {
     "data": {
      "text/html": [
       "<div>\n",
       "<style scoped>\n",
       "    .dataframe tbody tr th:only-of-type {\n",
       "        vertical-align: middle;\n",
       "    }\n",
       "\n",
       "    .dataframe tbody tr th {\n",
       "        vertical-align: top;\n",
       "    }\n",
       "\n",
       "    .dataframe thead th {\n",
       "        text-align: right;\n",
       "    }\n",
       "</style>\n",
       "<table border=\"1\" class=\"dataframe\">\n",
       "  <thead>\n",
       "    <tr style=\"text-align: right;\">\n",
       "      <th></th>\n",
       "      <th>Znach</th>\n",
       "      <th>Gr1</th>\n",
       "      <th>Gr2</th>\n",
       "      <th>%1</th>\n",
       "      <th>%2</th>\n",
       "    </tr>\n",
       "  </thead>\n",
       "  <tbody>\n",
       "    <tr>\n",
       "      <th>0</th>\n",
       "      <td>Zn1</td>\n",
       "      <td>99</td>\n",
       "      <td>83</td>\n",
       "      <td>-</td>\n",
       "      <td>-</td>\n",
       "    </tr>\n",
       "    <tr>\n",
       "      <th>1</th>\n",
       "      <td>Zn2</td>\n",
       "      <td>1</td>\n",
       "      <td>14</td>\n",
       "      <td>-</td>\n",
       "      <td>-</td>\n",
       "    </tr>\n",
       "    <tr>\n",
       "      <th>2</th>\n",
       "      <td>Zn3</td>\n",
       "      <td>24</td>\n",
       "      <td>29</td>\n",
       "      <td>-</td>\n",
       "      <td>-</td>\n",
       "    </tr>\n",
       "    <tr>\n",
       "      <th>3</th>\n",
       "      <td>Zn4</td>\n",
       "      <td>16</td>\n",
       "      <td>12</td>\n",
       "      <td>-</td>\n",
       "      <td>-</td>\n",
       "    </tr>\n",
       "    <tr>\n",
       "      <th>4</th>\n",
       "      <td>Zn5</td>\n",
       "      <td>32</td>\n",
       "      <td>56</td>\n",
       "      <td>-</td>\n",
       "      <td>-</td>\n",
       "    </tr>\n",
       "    <tr>\n",
       "      <th>5</th>\n",
       "      <td>Zn6</td>\n",
       "      <td>69</td>\n",
       "      <td>69</td>\n",
       "      <td>-</td>\n",
       "      <td>-</td>\n",
       "    </tr>\n",
       "    <tr>\n",
       "      <th>6</th>\n",
       "      <td>Zn6</td>\n",
       "      <td>5</td>\n",
       "      <td>11</td>\n",
       "      <td>-</td>\n",
       "      <td>-</td>\n",
       "    </tr>\n",
       "  </tbody>\n",
       "</table>\n",
       "</div>"
      ],
      "text/plain": [
       "  Znach  Gr1  Gr2 %1 %2\n",
       "0   Zn1   99   83  -  -\n",
       "1   Zn2    1   14  -  -\n",
       "2   Zn3   24   29  -  -\n",
       "3   Zn4   16   12  -  -\n",
       "4   Zn5   32   56  -  -\n",
       "5   Zn6   69   69  -  -\n",
       "6   Zn6    5   11  -  -"
      ]
     },
     "execution_count": 57,
     "metadata": {},
     "output_type": "execute_result"
    }
   ],
   "source": [
    "tabl\n"
   ]
  }
 ],
 "metadata": {
  "kernelspec": {
   "display_name": "Python 3",
   "language": "python",
   "name": "python3"
  },
  "language_info": {
   "codemirror_mode": {
    "name": "ipython",
    "version": 3
   },
   "file_extension": ".py",
   "mimetype": "text/x-python",
   "name": "python",
   "nbconvert_exporter": "python",
   "pygments_lexer": "ipython3",
   "version": "3.8.2"
  }
 },
 "nbformat": 4,
 "nbformat_minor": 4
}
